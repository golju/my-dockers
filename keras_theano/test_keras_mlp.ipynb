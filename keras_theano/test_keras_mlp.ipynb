{
 "cells": [
  {
   "cell_type": "code",
   "execution_count": 10,
   "metadata": {},
   "outputs": [
    {
     "name": "stdout",
     "output_type": "stream",
     "text": [
      "Epoch 1/20\n",
      "1000/1000 [==============================] - 0s 471us/step - loss: 0.7116 - acc: 0.5160\n",
      "Epoch 2/20\n",
      "1000/1000 [==============================] - 0s 44us/step - loss: 0.7110 - acc: 0.4640\n",
      "Epoch 3/20\n",
      "1000/1000 [==============================] - 0s 42us/step - loss: 0.7054 - acc: 0.5050\n",
      "Epoch 4/20\n",
      "1000/1000 [==============================] - 0s 35us/step - loss: 0.7012 - acc: 0.4940\n",
      "Epoch 5/20\n",
      "1000/1000 [==============================] - 0s 39us/step - loss: 0.6940 - acc: 0.5200\n",
      "Epoch 6/20\n",
      "1000/1000 [==============================] - 0s 45us/step - loss: 0.6982 - acc: 0.5200\n",
      "Epoch 7/20\n",
      "1000/1000 [==============================] - 0s 38us/step - loss: 0.6997 - acc: 0.4960\n",
      "Epoch 8/20\n",
      "1000/1000 [==============================] - 0s 41us/step - loss: 0.6974 - acc: 0.5110\n",
      "Epoch 9/20\n",
      "1000/1000 [==============================] - 0s 41us/step - loss: 0.6931 - acc: 0.5420\n",
      "Epoch 10/20\n",
      "1000/1000 [==============================] - 0s 41us/step - loss: 0.6936 - acc: 0.5170\n",
      "Epoch 11/20\n",
      "1000/1000 [==============================] - 0s 40us/step - loss: 0.6938 - acc: 0.5240\n",
      "Epoch 12/20\n",
      "1000/1000 [==============================] - 0s 44us/step - loss: 0.6937 - acc: 0.5270\n",
      "Epoch 13/20\n",
      "1000/1000 [==============================] - 0s 41us/step - loss: 0.6904 - acc: 0.5270\n",
      "Epoch 14/20\n",
      "1000/1000 [==============================] - 0s 48us/step - loss: 0.6894 - acc: 0.5240\n",
      "Epoch 15/20\n",
      "1000/1000 [==============================] - 0s 47us/step - loss: 0.6956 - acc: 0.5270\n",
      "Epoch 16/20\n",
      "1000/1000 [==============================] - 0s 44us/step - loss: 0.6895 - acc: 0.5400\n",
      "Epoch 17/20\n",
      "1000/1000 [==============================] - 0s 44us/step - loss: 0.6902 - acc: 0.5130\n",
      "Epoch 18/20\n",
      "1000/1000 [==============================] - 0s 49us/step - loss: 0.6908 - acc: 0.5330\n",
      "Epoch 19/20\n",
      "1000/1000 [==============================] - 0s 47us/step - loss: 0.6901 - acc: 0.5410\n",
      "Epoch 20/20\n",
      "1000/1000 [==============================] - 0s 45us/step - loss: 0.6915 - acc: 0.5380\n",
      "100/100 [==============================] - 0s 1ms/step\n"
     ]
    }
   ],
   "source": [
    "import keras\n",
    "from keras.models import Sequential\n",
    "from keras.layers import Dense, Dropout, Activation\n",
    "from keras.optimizers import SGD\n",
    "\n",
    "import matplotlib.pyplot as plt\n",
    "%matplotlib inline \n",
    "\n",
    "# Generate dummy data\n",
    "import numpy as np\n",
    "\n",
    "# Tensorboard\n",
    "tbCallBack = keras.callbacks.TensorBoard(log_dir='/Graph', histogram_freq=0,  \n",
    "          write_graph=True, write_images=True)\n",
    "\n",
    "# Generate dummy data\n",
    "x_train = np.random.random((1000, 20))\n",
    "y_train = np.random.randint(2, size=(1000, 1))\n",
    "x_test = np.random.random((100, 20))\n",
    "y_test = np.random.randint(2, size=(100, 1))\n",
    "\n",
    "model = Sequential()\n",
    "\n",
    "tbCallBack.set_model(model)\n",
    "\n",
    "# https://stackoverflow.com/questions/47877475/keras-tensorboard-plot-train-and-validation-scalars-in-a-same-figure/48393723\n",
    "\n",
    "model.add(Dense(64, input_dim=20, activation='relu'))\n",
    "model.add(Dropout(0.5))\n",
    "model.add(Dense(64, activation='relu'))\n",
    "model.add(Dropout(0.5))\n",
    "model.add(Dense(1, activation='sigmoid'))\n",
    "\n",
    "weights, biases = model.layers[0].get_weights()\n",
    "#tf.summary.histogram(\"weights\", W1)\n",
    "\n",
    "model.compile(loss='binary_crossentropy',\n",
    "              optimizer='rmsprop',\n",
    "              metrics=['accuracy'])\n",
    "\n",
    "history = model.fit(x_train, y_train,\n",
    "          epochs=20,\n",
    "          batch_size=128)\n",
    "\n",
    "#plt.plot(history)\n",
    "\n",
    "score = model.evaluate(x_test, y_test, batch_size=128)"
   ]
  },
  {
   "cell_type": "code",
   "execution_count": null,
   "metadata": {},
   "outputs": [],
   "source": [
    "# https://stackoverflow.com/questions/42112260/how-do-i-use-the-tensorboard-callback-of-keras\n"
   ]
  },
  {
   "cell_type": "code",
   "execution_count": 2,
   "metadata": {},
   "outputs": [],
   "source": [
    "\n"
   ]
  },
  {
   "cell_type": "code",
   "execution_count": null,
   "metadata": {},
   "outputs": [],
   "source": []
  }
 ],
 "metadata": {
  "kernelspec": {
   "display_name": "Python 2",
   "language": "python",
   "name": "python2"
  },
  "language_info": {
   "codemirror_mode": {
    "name": "ipython",
    "version": 2
   },
   "file_extension": ".py",
   "mimetype": "text/x-python",
   "name": "python",
   "nbconvert_exporter": "python",
   "pygments_lexer": "ipython2",
   "version": "2.7.15"
  }
 },
 "nbformat": 4,
 "nbformat_minor": 2
}
